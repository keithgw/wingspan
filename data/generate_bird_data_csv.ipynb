{
 "cells": [
  {
   "cell_type": "code",
   "execution_count": 18,
   "metadata": {},
   "outputs": [],
   "source": [
    "import pandas as pd\n",
    "\n",
    "# Read the .xlsx file\n",
    "df = pd.read_excel('data/bird_data_raw.xlsx', sheet_name='Birds')\n",
    "\n",
    "#clean up the column names\n",
    "df.columns = df.columns.str.replace(' ', '_').str.replace('(', '').str.replace(')', '').str.lower()\n",
    "\n",
    "# Filter the dataframe based on the \"Set\" column\n",
    "filtered_df = df[df['set'] == 'core']\n",
    "\n",
    "# select the Common name, Victory Points, and the food columns\n",
    "filtered_df = filtered_df[['common_name', 'victory_points', 'invertebrate', 'seed', 'fish', 'fruit', 'rodent', 'nectar', 'wild_food']]\n",
    "\n",
    "# fill the NaN values with 0\n",
    "filtered_df = filtered_df.fillna(0)\n",
    "\n",
    "# melt the \"Invertebrate\" and \"Seed\"\n",
    "melted_df = filtered_df.melt(id_vars=['common_name', 'victory_points'], value_vars=['invertebrate', 'seed', 'fish', 'fruit', 'rodent', 'nectar', 'wild_food'], var_name='food_type', value_name='food_cost')\n",
    "\n",
    "# group by common_name and victory_points an sum the food_cost\n",
    "food_cost_df = melted_df.groupby(['common_name', 'victory_points']).sum('food_cost').reset_index()\n",
    "\n",
    "# write the dataframe to a csv\n",
    "food_cost_df.to_csv('data/bird_data.csv', index=False)"
   ]
  }
 ],
 "metadata": {
  "kernelspec": {
   "display_name": ".venv",
   "language": "python",
   "name": "python3"
  },
  "language_info": {
   "codemirror_mode": {
    "name": "ipython",
    "version": 3
   },
   "file_extension": ".py",
   "mimetype": "text/x-python",
   "name": "python",
   "nbconvert_exporter": "python",
   "pygments_lexer": "ipython3",
   "version": "3.12.1"
  }
 },
 "nbformat": 4,
 "nbformat_minor": 2
}
