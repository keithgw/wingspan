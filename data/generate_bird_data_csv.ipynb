{
 "cells": [
  {
   "cell_type": "code",
   "execution_count": 2,
   "metadata": {},
   "outputs": [
    {
     "name": "stderr",
     "output_type": "stream",
     "text": [
      "C:\\Users\\court\\AppData\\Local\\Temp\\ipykernel_25500\\2015780771.py:13: SettingWithCopyWarning: \n",
      "A value is trying to be set on a copy of a slice from a DataFrame.\n",
      "Try using .loc[row_indexer,col_indexer] = value instead\n",
      "\n",
      "See the caveats in the documentation: https://pandas.pydata.org/pandas-docs/stable/user_guide/indexing.html#returning-a-view-versus-a-copy\n",
      "  filtered_df['common_name'] = filtered_df['common_name'].str.replace(\"'\", \"\")\n"
     ]
    }
   ],
   "source": [
    "import pandas as pd\n",
    "\n",
    "# Read the .xlsx file\n",
    "df = pd.read_excel('bird_data_raw.xlsx', sheet_name='Birds')\n",
    "\n",
    "#clean up the column names\n",
    "df.columns = df.columns.str.replace(' ', '_').str.replace('(', '').str.replace(')', '').str.lower()\n",
    "\n",
    "# Filter the dataframe based on the \"Set\" column\n",
    "filtered_df = df[df['set'] == 'core']\n",
    "\n",
    "# Clean common_name column to remove apostrophes\n",
    "filtered_df['common_name'] = filtered_df['common_name'].str.replace(\"'\", \"\")\n",
    "\n",
    "# select the Common name, Victory Points, and the food columns\n",
    "filtered_df = filtered_df[['common_name', 'victory_points', 'invertebrate', 'seed', 'fish', 'fruit', 'rodent', 'nectar', 'wild_food']]\n",
    "\n",
    "# fill the NaN values with 0\n",
    "filtered_df = filtered_df.fillna(0)\n",
    "\n",
    "# melt the \"Invertebrate\" and \"Seed\"\n",
    "melted_df = filtered_df.melt(id_vars=['common_name', 'victory_points'], value_vars=['invertebrate', 'seed', 'fish', 'fruit', 'rodent', 'nectar', 'wild_food'], var_name='food_type', value_name='food_cost')\n",
    "\n",
    "# group by common_name and victory_points an sum the food_cost\n",
    "food_cost_df = melted_df.groupby(['common_name', 'victory_points']).sum('food_cost').reset_index()\n",
    "\n",
    "# write the dataframe to a csv\n",
    "food_cost_df.to_csv('bird_data.csv', index=False)"
   ]
  }
 ],
 "metadata": {
  "kernelspec": {
   "display_name": ".venv",
   "language": "python",
   "name": "python3"
  },
  "language_info": {
   "codemirror_mode": {
    "name": "ipython",
    "version": 3
   },
   "file_extension": ".py",
   "mimetype": "text/x-python",
   "name": "python",
   "nbconvert_exporter": "python",
   "pygments_lexer": "ipython3",
   "version": "3.12.1"
  }
 },
 "nbformat": 4,
 "nbformat_minor": 2
}
